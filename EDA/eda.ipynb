{
 "cells": [
  {
   "cell_type": "markdown",
   "metadata": {},
   "source": [
    "# EXPLORATORY DATA ANALYSIS\n",
    "\n",
    "A continuación extraeremos y exploraremos los datos proporcionados por https://data.buenosaires.gob.ar/dataset/victimas-siniestros-viales  sobre los siniestros en Argentina.\n",
    "\n",
    "Para ello usaremos las librerias de pandas, y ydata_profiling.\n"
   ]
  },
  {
   "cell_type": "code",
   "execution_count": 7,
   "metadata": {},
   "outputs": [],
   "source": [
    "# cargar librerias\n",
    "import pandas as pd \n",
    "\n",
    "import seaborn as sns \n",
    "import matplotlib.pyplot as plt"
   ]
  },
  {
   "cell_type": "code",
   "execution_count": 8,
   "metadata": {},
   "outputs": [
    {
     "name": "stdout",
     "output_type": "stream",
     "text": [
      "            ID  N_VICTIMAS      FECHA  AAAA  MM  DD      HORA  HH  \\\n",
      "0    2016-0001           1 2016-01-01  2016   1   1  04:00:00   4   \n",
      "1    2016-0002           1 2016-01-02  2016   1   2  01:15:00   1   \n",
      "2    2016-0003           1 2016-01-03  2016   1   3  07:00:00   7   \n",
      "3    2016-0004           1 2016-01-10  2016   1  10  00:00:00   0   \n",
      "4    2016-0005           1 2016-01-21  2016   1  21  05:20:00   5   \n",
      "..         ...         ...        ...   ...  ..  ..       ...  ..   \n",
      "691  2021-0093           1 2021-12-13  2021  12  13  17:10:00  17   \n",
      "692  2021-0094           1 2021-12-20  2021  12  20  01:10:00   1   \n",
      "693  2021-0095           1 2021-12-30  2021  12  30  00:43:00   0   \n",
      "694  2021-0096           1 2021-12-15  2021  12  15  10:30:00  10   \n",
      "695  2021-0097           1 2021-11-18  2021  11  18  06:10:00   6   \n",
      "\n",
      "                               LUGAR_DEL_HECHO TIPO_DE_CALLE  ...  Altura  \\\n",
      "0    AV PIEDRA BUENA Y AV FERNANDEZ DE LA CRUZ       AVENIDA  ...     NaN   \n",
      "1            AV GRAL PAZ  Y AV DE LOS CORRALES      GRAL PAZ  ...     NaN   \n",
      "2                           AV ENTRE RIOS 2034       AVENIDA  ...  2034.0   \n",
      "3        AV LARRAZABAL Y GRAL VILLEGAS CONRADO       AVENIDA  ...     NaN   \n",
      "4    AV SAN JUAN Y PRESIDENTE LUIS SAENZ PEÑA        AVENIDA  ...     NaN   \n",
      "..                                         ...           ...  ...     ...   \n",
      "691                          AV. RIESTRA Y MOM       AVENIDA  ...     NaN   \n",
      "692                    AU DELLEPIANE Y LACARRA     AUTOPISTA  ...     NaN   \n",
      "693                        AV. GAONA Y TERRADA       AVENIDA  ...     NaN   \n",
      "694                         AV. EVA PERON 4071       AVENIDA  ...  4071.0   \n",
      "695                    PADRE CARLOS MUJICA 709         CALLE  ...   709.0   \n",
      "\n",
      "                                   Cruce  \\\n",
      "0    FERNANDEZ DE LA CRUZ, F., GRAL. AV.   \n",
      "1                    DE LOS CORRALES AV.   \n",
      "2                                    NaN   \n",
      "3               VILLEGAS, CONRADO, GRAL.   \n",
      "4                SAENZ PE?A, LUIS, PRES.   \n",
      "..                                   ...   \n",
      "691                                  MOM   \n",
      "692                          LACARRA AV.   \n",
      "693                              TERRADA   \n",
      "694                                  NaN   \n",
      "695                                  NaN   \n",
      "\n",
      "                                 Dirección Normalizada COMUNA  \\\n",
      "0    PIEDRA BUENA AV. y FERNANDEZ DE LA CRUZ, F., G...      8   \n",
      "1                 PAZ, GRAL. AV. y DE LOS CORRALES AV.      9   \n",
      "2                                  ENTRE RIOS AV. 2034      1   \n",
      "3            LARRAZABAL AV. y VILLEGAS, CONRADO, GRAL.      8   \n",
      "4              SAN JUAN AV. y SAENZ PEÃ‘A, LUIS, PRES.      1   \n",
      "..                                                 ...    ...   \n",
      "691                                  RIESTRA AV. y MOM      7   \n",
      "692         DELLEPIANE, LUIS, TTE. GRAL. y LACARRA AV.      9   \n",
      "693                                GAONA AV. y TERRADA     11   \n",
      "694                                PERON, EVA AV. 4071      9   \n",
      "695                            PADRE CARLOS MUGICA 709      1   \n",
      "\n",
      "                                   XY (CABA)         pos x         pos y  \\\n",
      "0      Point (98896.78238426 93532.43437792)  -58.47533969  -34.68757022   \n",
      "1      Point (95832.05571093 95505.41641999)  -58.50877521  -34.66977709   \n",
      "2     Point (106684.29090040 99706.57687843)  -58.39040293  -34.63189362   \n",
      "3      Point (99840.65224780 94269.16534422)  -58.46503904  -34.68092974   \n",
      "4    Point (106980.32827929 100752.16915795)  -58.38718297  -34.62246630   \n",
      "..                                       ...           ...           ...   \n",
      "691   Point (102728.60090138 98186.24929177)  -58.43353773  -34.64561636   \n",
      "692    Point (99624.29795829 97569.69801131)  -58.46739825  -34.65117757   \n",
      "693   Point (99116.45492358 101045.23284826)  -58.47293407  -34.61984745   \n",
      "694    Point (99324.54463985 97676.26932409)  -58.47066794  -34.65021673   \n",
      "695  Point (107664.16647795 104708.63962087)  -58.37976155  -34.58679619   \n",
      "\n",
      "      PARTICIPANTES    VICTIMA    ACUSADO  \n",
      "0         MOTO-AUTO       MOTO       AUTO  \n",
      "1    AUTO-PASAJEROS       AUTO  PASAJEROS  \n",
      "2         MOTO-AUTO       MOTO       AUTO  \n",
      "3           MOTO-SD       MOTO         SD  \n",
      "4    MOTO-PASAJEROS       MOTO  PASAJEROS  \n",
      "..              ...        ...        ...  \n",
      "691       MOTO-AUTO       MOTO       AUTO  \n",
      "692       MOTO-AUTO       MOTO       AUTO  \n",
      "693     MOTO-CARGAS       MOTO     CARGAS  \n",
      "694     AUTO-CARGAS       AUTO     CARGAS  \n",
      "695  BICICLETA-AUTO  BICICLETA       AUTO  \n",
      "\n",
      "[696 rows x 21 columns]\n"
     ]
    }
   ],
   "source": [
    "#cargar datos de siniestros\n",
    "df= pd.read_excel(r'./dataRaw/homicidios.xlsx')\n",
    "print(df)"
   ]
  },
  {
   "cell_type": "markdown",
   "metadata": {},
   "source": [
    "## ANALISIS DEL DATAFRAME"
   ]
  },
  {
   "cell_type": "markdown",
   "metadata": {},
   "source": [
    "las columnas contienen:\n",
    "ID = numero de identificación del siniestro.\n",
    "\n",
    "N_VICTIMAS = número de fallecidos en el siniestro\n",
    "\n",
    "FECHA = fecha del siniestro\n",
    "\n",
    "AAAA = año del siniestro\n",
    "\n",
    "MM\t= mes del siniestro\n",
    "\n",
    "DD\t= dia del siniestro\n",
    "\n",
    "HORA = hora exacta del siniestro\t\n",
    "\n",
    "HH\t= hora del siniestro\n",
    "\n",
    "LUGAR_DEL_HECHO = calles donde fue el siniestro\n",
    "\n",
    "TIPO_DE_CALLE = tipo de calle donde fue el siniestro\n",
    "\n",
    "Calle = nombre de la calle donde fue el siniestro\n",
    "\n",
    "Altura\t\n",
    "    \n",
    "Cruce = calles donde fue el siniestro\n",
    "\n",
    "Dirección Normalizada = calles donde fue el siniestro\n",
    "\n",
    "COMUNA\t= numero de comuna donde fue el siniestro\n",
    "\n",
    "XY (CABA)\t= coordenadas del siniestreo \n",
    "\n",
    "pos x\t= coordenadas longitud del siniestreo \n",
    "\n",
    "pos y\t= coordenadas altitud del siniestreo \n",
    "\n",
    "PARTICIPANTES\t= tipo de vehiculos que participaron en el siniestro\n",
    "\n",
    "VICTIMA\t= tipo de vehiculo impactado en el siniestro\n",
    "\n",
    "ACUSADO = tipo de vehiculo impactante que realizó en el siniestro\n"
   ]
  },
  {
   "cell_type": "code",
   "execution_count": 10,
   "metadata": {},
   "outputs": [
    {
     "name": "stdout",
     "output_type": "stream",
     "text": [
      "<class 'pandas.core.frame.DataFrame'>\n",
      "RangeIndex: 696 entries, 0 to 695\n",
      "Data columns (total 21 columns):\n",
      " #   Column                 Non-Null Count  Dtype         \n",
      "---  ------                 --------------  -----         \n",
      " 0   ID                     696 non-null    object        \n",
      " 1   N_VICTIMAS             696 non-null    int64         \n",
      " 2   FECHA                  696 non-null    datetime64[ns]\n",
      " 3   AAAA                   696 non-null    int64         \n",
      " 4   MM                     696 non-null    int64         \n",
      " 5   DD                     696 non-null    int64         \n",
      " 6   HORA                   696 non-null    object        \n",
      " 7   HH                     696 non-null    object        \n",
      " 8   LUGAR_DEL_HECHO        696 non-null    object        \n",
      " 9   TIPO_DE_CALLE          696 non-null    object        \n",
      " 10  Calle                  695 non-null    object        \n",
      " 11  Altura                 129 non-null    float64       \n",
      " 12  Cruce                  525 non-null    object        \n",
      " 13  Dirección Normalizada  688 non-null    object        \n",
      " 14  COMUNA                 696 non-null    int64         \n",
      " 15  XY (CABA)              696 non-null    object        \n",
      " 16  pos x                  696 non-null    object        \n",
      " 17  pos y                  696 non-null    object        \n",
      " 18  PARTICIPANTES          696 non-null    object        \n",
      " 19  VICTIMA                696 non-null    object        \n",
      " 20  ACUSADO                696 non-null    object        \n",
      "dtypes: datetime64[ns](1), float64(1), int64(5), object(14)\n",
      "memory usage: 114.3+ KB\n"
     ]
    }
   ],
   "source": [
    "df.info()"
   ]
  },
  {
   "cell_type": "markdown",
   "metadata": {},
   "source": [
    "### Tipos de valores\n",
    "\n",
    "objetos genericos( normalmente str): ID, HORA, HH, LUGAR_DEL_HECHO, TIPO_DE_CALLE, Calle, Cruce, Dirección Normalizada, XY (CABA), pos x, pos y, PARTICIPANTES, VICTIMA\tACUSADO\n",
    "\n",
    "valores tipo Int= N_VICTIMAS, AAAA, MM, DD, COMUNA\n",
    "\n",
    "valores tipo float = Altura\n",
    "\n",
    "Valores tipo date = FECHA\t\n"
   ]
  },
  {
   "cell_type": "markdown",
   "metadata": {},
   "source": [
    "## Datos redundantes\n",
    "\n",
    "1. Se puede observar que las columnas 'AAAA'\t'MM'\t'DD' son desgloce de 'FECHA'.\n",
    "\n",
    "2. Las columna'HORA' contiene horas, minutos y segundos, y la culmna\tHH  solo horas.\n",
    "\n",
    "3. Se puede observar que las columnas 'pos x'\t'pos y' son desgloce de 'XY (CABA)'.\n",
    "\n",
    "4. Se puede observar que las columnas 'VICTIMA' 'ACUSADO' son desgloce de 'PARTICIPANTES'.\n",
    "\n",
    "5. 'LUGAR_DEL_HECHO' 'calle' 'Cruce' 'Dirección Normalizada'  contienen la misma informacion pero en diferente formato.\n",
    "\n",
    "\n",
    "Recomendación conservar: \n",
    "1. Columnas 'AAAA'\t'MM' 'DD', al ser mas facil de agrupar.\n",
    "2. Columna HH al contener información vital.\n",
    "3. Se pueden eliminar la 'XY (CABA)'\n",
    "4. Columnas 'VICTIMA' 'ACUSADO' al ser mas facil de agrupar y contabilizar.\n",
    "5. 'LUGAR_DEL_HECHO'  al ser el que contiene más datos y 'calle' ya que es donde sucedio el siniestro.\n",
    "\n",
    "\n"
   ]
  },
  {
   "cell_type": "markdown",
   "metadata": {},
   "source": [
    "## datos vacios\n",
    "Como podemos ver en la linea 10, tenemos que maximo tenemos 696 valores por columna. \n",
    "\n",
    "Al ver que 'Altura' tiene  129, 'Calle' 695, 'Cruce' 525 y 'Dirección Normalizada' 688;\n",
    "\n",
    "por lo que se recomienda que elimine 'Altura'."
   ]
  },
  {
   "cell_type": "markdown",
   "metadata": {},
   "source": [
    "# Limpieza de los datos"
   ]
  },
  {
   "cell_type": "code",
   "execution_count": 9,
   "metadata": {},
   "outputs": [
    {
     "data": {
      "text/html": [
       "<div>\n",
       "<style scoped>\n",
       "    .dataframe tbody tr th:only-of-type {\n",
       "        vertical-align: middle;\n",
       "    }\n",
       "\n",
       "    .dataframe tbody tr th {\n",
       "        vertical-align: top;\n",
       "    }\n",
       "\n",
       "    .dataframe thead th {\n",
       "        text-align: right;\n",
       "    }\n",
       "</style>\n",
       "<table border=\"1\" class=\"dataframe\">\n",
       "  <thead>\n",
       "    <tr style=\"text-align: right;\">\n",
       "      <th></th>\n",
       "      <th>ID</th>\n",
       "      <th>N_VICTIMAS</th>\n",
       "      <th>AAAA</th>\n",
       "      <th>MM</th>\n",
       "      <th>DD</th>\n",
       "      <th>HH</th>\n",
       "      <th>LUGAR_DEL_HECHO</th>\n",
       "      <th>TIPO_DE_CALLE</th>\n",
       "      <th>Calle</th>\n",
       "      <th>COMUNA</th>\n",
       "      <th>pos x</th>\n",
       "      <th>pos y</th>\n",
       "      <th>VICTIMA</th>\n",
       "      <th>ACUSADO</th>\n",
       "    </tr>\n",
       "  </thead>\n",
       "  <tbody>\n",
       "    <tr>\n",
       "      <th>0</th>\n",
       "      <td>2016-0001</td>\n",
       "      <td>1</td>\n",
       "      <td>2016</td>\n",
       "      <td>1</td>\n",
       "      <td>1</td>\n",
       "      <td>4</td>\n",
       "      <td>AV PIEDRA BUENA Y AV FERNANDEZ DE LA CRUZ</td>\n",
       "      <td>AVENIDA</td>\n",
       "      <td>PIEDRA BUENA AV.</td>\n",
       "      <td>8</td>\n",
       "      <td>-58.47533969</td>\n",
       "      <td>-34.68757022</td>\n",
       "      <td>MOTO</td>\n",
       "      <td>AUTO</td>\n",
       "    </tr>\n",
       "    <tr>\n",
       "      <th>1</th>\n",
       "      <td>2016-0002</td>\n",
       "      <td>1</td>\n",
       "      <td>2016</td>\n",
       "      <td>1</td>\n",
       "      <td>2</td>\n",
       "      <td>1</td>\n",
       "      <td>AV GRAL PAZ  Y AV DE LOS CORRALES</td>\n",
       "      <td>GRAL PAZ</td>\n",
       "      <td>PAZ, GRAL. AV.</td>\n",
       "      <td>9</td>\n",
       "      <td>-58.50877521</td>\n",
       "      <td>-34.66977709</td>\n",
       "      <td>AUTO</td>\n",
       "      <td>PASAJEROS</td>\n",
       "    </tr>\n",
       "    <tr>\n",
       "      <th>2</th>\n",
       "      <td>2016-0003</td>\n",
       "      <td>1</td>\n",
       "      <td>2016</td>\n",
       "      <td>1</td>\n",
       "      <td>3</td>\n",
       "      <td>7</td>\n",
       "      <td>AV ENTRE RIOS 2034</td>\n",
       "      <td>AVENIDA</td>\n",
       "      <td>ENTRE RIOS AV.</td>\n",
       "      <td>1</td>\n",
       "      <td>-58.39040293</td>\n",
       "      <td>-34.63189362</td>\n",
       "      <td>MOTO</td>\n",
       "      <td>AUTO</td>\n",
       "    </tr>\n",
       "    <tr>\n",
       "      <th>3</th>\n",
       "      <td>2016-0004</td>\n",
       "      <td>1</td>\n",
       "      <td>2016</td>\n",
       "      <td>1</td>\n",
       "      <td>10</td>\n",
       "      <td>0</td>\n",
       "      <td>AV LARRAZABAL Y GRAL VILLEGAS CONRADO</td>\n",
       "      <td>AVENIDA</td>\n",
       "      <td>LARRAZABAL AV.</td>\n",
       "      <td>8</td>\n",
       "      <td>-58.46503904</td>\n",
       "      <td>-34.68092974</td>\n",
       "      <td>MOTO</td>\n",
       "      <td>SD</td>\n",
       "    </tr>\n",
       "    <tr>\n",
       "      <th>4</th>\n",
       "      <td>2016-0005</td>\n",
       "      <td>1</td>\n",
       "      <td>2016</td>\n",
       "      <td>1</td>\n",
       "      <td>21</td>\n",
       "      <td>5</td>\n",
       "      <td>AV SAN JUAN Y PRESIDENTE LUIS SAENZ PEÑA</td>\n",
       "      <td>AVENIDA</td>\n",
       "      <td>SAN JUAN AV.</td>\n",
       "      <td>1</td>\n",
       "      <td>-58.38718297</td>\n",
       "      <td>-34.62246630</td>\n",
       "      <td>MOTO</td>\n",
       "      <td>PASAJEROS</td>\n",
       "    </tr>\n",
       "  </tbody>\n",
       "</table>\n",
       "</div>"
      ],
      "text/plain": [
       "          ID  N_VICTIMAS  AAAA  MM  DD HH  \\\n",
       "0  2016-0001           1  2016   1   1  4   \n",
       "1  2016-0002           1  2016   1   2  1   \n",
       "2  2016-0003           1  2016   1   3  7   \n",
       "3  2016-0004           1  2016   1  10  0   \n",
       "4  2016-0005           1  2016   1  21  5   \n",
       "\n",
       "                             LUGAR_DEL_HECHO TIPO_DE_CALLE             Calle  \\\n",
       "0  AV PIEDRA BUENA Y AV FERNANDEZ DE LA CRUZ       AVENIDA  PIEDRA BUENA AV.   \n",
       "1          AV GRAL PAZ  Y AV DE LOS CORRALES      GRAL PAZ    PAZ, GRAL. AV.   \n",
       "2                         AV ENTRE RIOS 2034       AVENIDA    ENTRE RIOS AV.   \n",
       "3      AV LARRAZABAL Y GRAL VILLEGAS CONRADO       AVENIDA    LARRAZABAL AV.   \n",
       "4  AV SAN JUAN Y PRESIDENTE LUIS SAENZ PEÑA        AVENIDA      SAN JUAN AV.   \n",
       "\n",
       "   COMUNA         pos x         pos y VICTIMA    ACUSADO  \n",
       "0       8  -58.47533969  -34.68757022    MOTO       AUTO  \n",
       "1       9  -58.50877521  -34.66977709    AUTO  PASAJEROS  \n",
       "2       1  -58.39040293  -34.63189362    MOTO       AUTO  \n",
       "3       8  -58.46503904  -34.68092974    MOTO         SD  \n",
       "4       1  -58.38718297  -34.62246630    MOTO  PASAJEROS  "
      ]
     },
     "execution_count": 9,
     "metadata": {},
     "output_type": "execute_result"
    }
   ],
   "source": [
    "#eliminar columnas innecesarias\n",
    "df.drop(columns={'FECHA',\t'HORA',\t'Altura'\t,'Cruce',\t'Dirección Normalizada',\t'XY (CABA)',\t'PARTICIPANTES'}, inplace=True)\n",
    "df.head()"
   ]
  },
  {
   "cell_type": "markdown",
   "metadata": {},
   "source": [
    "# Valores atipicos\n"
   ]
  },
  {
   "cell_type": "code",
   "execution_count": 35,
   "metadata": {},
   "outputs": [
    {
     "name": "stdout",
     "output_type": "stream",
     "text": [
      "[1 2 3]\n",
      "[2016 2017 2018 2019 2020 2021]\n",
      "[ 1  2  3  4  5  6  7  8  9 10 11 12]\n",
      "[ 1  2  3 10 21 24 29  8 14 15 17 28  4 12 13 19 23 30 31 11 20 22 25 26\n",
      " 16 18 27  7  9  5  6]\n",
      "[ 8  9  1 11 15  4  7 12  3 13 14 10  6  2  5  0]\n",
      "['MOTO' 'AUTO' 'PEATON' 'SD' 'CARGAS' 'BICICLETA' 'PASAJEROS' 'MOVIL'\n",
      " 'OBJETO FIJO' 'PEATON_MOTO']\n",
      "['AUTO' 'PASAJEROS' 'SD' 'OBJETO FIJO' 'CARGAS' 'MOTO' 'MULTIPLE' 'OTRO'\n",
      " 'BICICLETA' 'TREN']\n",
      "['PIEDRA BUENA AV.' 'PAZ, GRAL. AV.' 'ENTRE RIOS AV.' 'LARRAZABAL AV.'\n",
      " 'SAN JUAN AV.' '27 DE FEBRERO AV.' 'NOGOYA' 'BELGRANO AV.'\n",
      " 'SCALABRINI ORTIZ, RAUL AV.' 'REGIMIENTO DE PATRICIOS AV.'\n",
      " 'ACOSTA, MARIANO' 'DE LA TORRE, LISANDRO' 'SUIPACHA' 'DIRECTORIO AV.'\n",
      " '9 DE JULIO AV.' 'HOLMBERG' 'CURAPALIGUE AV.' 'VIAMONTE' 'CABILDO AV.'\n",
      " 'ALCORTA, AMANCIO AV.' 'CORRIENTES AV.' 'HERRERA' 'LAFUENTE AV.'\n",
      " 'MITRE, BARTOLOME' 'DELLEPIANE, LUIS, TTE. GRAL.'\n",
      " 'MORENO, JOSE MARIA AV.' 'LIMA'\n",
      " 'AUTOPISTA 1 SUR PRESIDENTE ARTURO FRONDIZI' 'GORDILLO, TIMOTEO'\n",
      " 'LUGONES, LEOPOLDO AV.' 'TRIUNVIRATO AV.'\n",
      " 'AUTOPISTA DELLEPIANE LUIS TTE. GRAL.' 'CASTILLA, RAMON, MARISCAL'\n",
      " 'CAMPOS, LUIS M. AV.' 'CIUDADELA' 'JUSTO, JUAN B. AV.' 'GAONA AV.'\n",
      " 'FIGUEROA ALCORTA, PRES. AV.' 'MAGARI?OS CERVANTES, A.' 'SAN MARTIN AV.'\n",
      " 'PERON, JUAN DOMINGO, TTE. GENERAL' 'DEL LIBERTADOR AV.'\n",
      " 'LARRALDE, CRISOLOGO AV.' 'LA PLATA AV.' 'ALBERDI, JUAN BAUTISTA AV.'\n",
      " 'PELLEGRINI, CARLOS' 'RABANAL, FRANCISCO, INTENDENTE AV.' 'OLIVERA AV.'\n",
      " 'CERETTI' 'SALGUERO, JERONIMO' 'MERCEDES' 'SOLIS' 'MOSCONI GENERAL AV.'\n",
      " 'PERON, EVA AV.' 'ZINNY' 'LACROZE, FEDERICO AV.'\n",
      " 'AUTOPISTA PERITO MORENO' 'LUGONES' 'AUTOPISTA 25 DE MAYO' 'ARIAS'\n",
      " 'ASAMBLEA AV.' 'RIVADAVIA AV.' 'IRIGOYEN' 'CASTRO' 'MIRAVE'\n",
      " 'LAS HERAS GENERAL AV.' 'AUTOPISTA BUENOS AIRES - LA PLATA'\n",
      " 'JURAMENTO AV.' 'BROWN, ALTE. AV.' 'PICHINCHA AV.' 'INDEPENDENCIA AV.'\n",
      " 'GARMENDIA AV.' nan 'MORENO, PERITO AV.' 'ARAOZ' 'MADERO' 'SANTA FE AV.'\n",
      " 'GARCIA, MARTIN AV.' 'NU?EZ' 'HUERGO, ING. AV.' 'GARAY, JUAN DE AV.'\n",
      " 'FALCON, RAMON L.,CNEL.' 'ARENALES' 'REPUBLICA BOLIVARIANA DE VENEZUELA'\n",
      " 'OLAVARRIA' 'CABRERA, JOSE A.' 'TRAFUL' 'IRIARTE, GRAL. AV.' 'DONADO'\n",
      " 'CORDOBA AV.' 'SARMIENTO' 'FERNANDEZ DE LA CRUZ, F., GRAL. AV.'\n",
      " 'CASEROS AV.' 'MOZART' '24 DE NOVIEMBRE' 'GODOY CRUZ'\n",
      " 'ACHAVAL RODRIGUEZ, T., DR. AV.' 'CASTA?ARES AV.' 'GUIRALDES, INT.'\n",
      " 'FERNANDEZ MORENO, BALDOMERO' 'ARGENTINA AV.' 'VIEYTES'\n",
      " 'DE LOS CONSTITUYENTES AV.' 'BRASIL' 'ESCALADA AV.' 'PARAGUAY' 'CHILE'\n",
      " 'MAIPU' 'SUAREZ AV.' 'NUEVA YORK' 'CASCO' 'DE MAYO AV.'\n",
      " 'CASTILLO, RAMON S., PRES. AV.' 'FRAY JUSTO SANTAMARIA DE ORO' 'MEXICO'\n",
      " 'TACUARI' 'PASEO COLON AV.' 'LEGUIZAMON, MARTINIANO' 'CHIVILCOY AV.'\n",
      " 'SUPERI' 'HUGO, VICTOR' 'BONIFACIO, JOSE' 'LAVALLE' 'USPALLATA'\n",
      " 'ALVEAR AV.' 'PAVON AV.' 'ALBARI?O' 'RAMIREZ DE VELASCO, JUAN'\n",
      " 'RIESTRA AV.' 'GALLO' 'ARANGUREN, JUAN F., DR.' 'CHORROARIN' 'COSQUIN'\n",
      " 'ROCA, CNEL. AV.' 'WARNES AV.' 'BARCO CENTENERA DEL' 'TRELLES, MANUEL R.'\n",
      " 'MAZA' 'CACHI' 'ROSARIO' 'GUALEGUAYCHU' 'NAZCA AV.' 'PERU'\n",
      " 'PUEYRREDON, HONORIO, DR. AV.' 'VALLE' 'PILCOMAYO' 'CERVANTES'\n",
      " 'CALLAO AV.' 'OLIDEN' 'CONGRESO AV.' 'AUSTRALIA AV.' 'SAN PEDRITO AV.'\n",
      " 'ISABEL LA CATOLICA' 'AUTOPISTA PRESIDENTE HECTOR J. CAMPORA'\n",
      " 'MONTES DE OCA, MANUEL AV.' 'ALVAREZ THOMAS AV.' 'AVELLANEDA AV.'\n",
      " 'BILBAO, FRANCISCO AV.' 'PLAZA' 'CAMARONES' 'FREIRE, RAMON, CAP. GRAL.'\n",
      " 'BRANDSEN' 'VILARDEBO, TEODORO' 'ALBERTI' 'QUESADA' 'CALIFORNIA'\n",
      " 'CARRIL, SALVADOR MARIA DEL AV.' 'SAN LUIS' 'COMBATE DE LOS POZOS'\n",
      " 'ESTADOS UNIDOS' 'ALEM, LEANDRO N. AV.' 'VARELA AV.' 'CARABOBO AV.'\n",
      " 'MORENO' 'CHAVEZ, JORGE' 'URQUIZA, GRAL.' 'DE LOS CORRALES AV.'\n",
      " 'CASTANARES AV.' 'LARRAZABAL' 'MOREAU DE JUSTO, ALICIA AV.'\n",
      " '15 DE NOVIEMBRE DE 1889' 'LACARRA AV.'\n",
      " 'AUTOPISTA PRESIDENTE H?CTOR J. C?MPORA'\n",
      " 'RAWSON DE DELLEPIANE, ELVIRA AV.' 'FAMATINA' 'DE LOS ITALIANOS AV.'\n",
      " 'TUCUMAN' 'MU?ECAS' 'ARTIGAS, JOSE GERVASIO, GRAL.' 'BOSCH, VENTURA'\n",
      " 'MONROE' 'SAENZ AV.' 'NEWBERY, JORGE AV.' 'MADERO, EDUARDO AV.'\n",
      " 'AUTOPISTA ARTURO ILLIA' 'ALSINA, ADOLFO' 'BERMUDEZ' 'SANTANDER'\n",
      " 'LANTERI JULIETA' 'OBLIGADO RAFAEL, AV.COSTANERA' 'CHACABUCO' 'SALVIGNY'\n",
      " 'LAMARCA, EMILIO' 'CARRILLO, RAMON, DR.' 'CANTILO, INT.' 'CHICLANA AV.'\n",
      " 'BOYACA AV.' 'ANTARTIDA ARGENTINA AV.' 'ALVAREZ, DONATO, TTE. GRAL.'\n",
      " 'RIGLOS' 'LA RIOJA' 'UDAONDO, GUILLERMO AV.' 'PUAN' 'BOEDO AV.'\n",
      " 'CIUDAD DE LA PAZ' 'FILIBERTO, JUAN DE DIOS' 'ASTURIAS AV.' 'GANDARA'\n",
      " 'GUEVARA, TRINIDAD' 'ARTILLEROS' 'ACOSTA, MARIANO AV.'\n",
      " '11 DE SEPTIEMBRE DE 1888' 'PINO, VIRREY DEL' 'FOREST AV.'\n",
      " 'CASTRO, EMILIO' 'PRIMERA JUNTA' 'SAN ANTONIO' 'EINSTEIN, ALBERTO'\n",
      " 'AGRELO' 'ELCANO AV.' 'MONTE' 'TANDIL' 'CARDOSO' 'BRIN, MINISTRO' 'NIZA'\n",
      " 'CAMARGO' 'GUZMAN' 'IBARROLA' 'SANTO TOME' 'URIARTE' 'SARAZA'\n",
      " 'RODRIGUEZ PE?A' 'COLOMBRES' 'COMBATIENTES DE MALVINAS AV.' 'BRASIL AV.'\n",
      " 'CONSTITUCION' 'PUEYRREDON AV.' 'BRAVO, MARIO'\n",
      " 'ARAOZ DE LAMADRID, GREGORIO, GRAL.' 'MURGUIONDO'\n",
      " 'GARZON, EUGENIO, GRAL. AV.' 'CURAPALIGUE' 'DIAZ, ANA' 'DORREGO AV.'\n",
      " 'INCLAN' 'OLAZABAL AV.' 'HOMERO' 'JUJUY AV.' 'BOGOTA' 'ALVAREZ JONTE AV.'\n",
      " 'CASTRO, EMILIO AV.' 'PAYSANDU' 'SALTA' 'JAURES, JEAN' 'POTOSI'\n",
      " 'YRIGOYEN, HIPOLITO' 'COREA AV.' 'FINOCHIETTO ENRIQUE DR.'\n",
      " 'JANER, ANA MARIA' 'VEDIA, AGUSTIN DE' 'CAPDEVILA' 'TABARE' 'CORRALES'\n",
      " 'LOPE DE VEGA AV.' 'BEIRO, FRANCISCO AV.'\n",
      " 'CHILAVERT, MARTINIANO, CORONEL' 'TAPALQUE' 'ESMERALDA' 'BAIGORRIA'\n",
      " 'PADRE CARLOS MUJICA']\n"
     ]
    }
   ],
   "source": [
    "\n",
    "#datos unicos\n",
    "print(df['N_VICTIMAS'].unique())\n",
    "print(df['AAAA'].unique())\n",
    "print(df['MM'].unique())\n",
    "print(df['DD'].unique())\n",
    "print(df['COMUNA'].unique())\n",
    "print(df['VICTIMA'].unique())\n",
    "print(df['ACUSADO'].unique())\n",
    "print(df['Calle'].unique())\n",
    "\n"
   ]
  },
  {
   "cell_type": "markdown",
   "metadata": {},
   "source": [
    "# DISMINUCION DE LOS DATOS A SOLO LO NECESARIO.\n",
    "\n",
    "Dado que solo se analizara el año del 2021, para el primer KPI se extraera solo esos datos.\n",
    "\n",
    "Y para el segundo KPI se consideraran también los datos del 2020"
   ]
  },
  {
   "cell_type": "code",
   "execution_count": 4,
   "metadata": {},
   "outputs": [
    {
     "name": "stdout",
     "output_type": "stream",
     "text": [
      "<class 'pandas.core.frame.DataFrame'>\n",
      "Index: 97 entries, 599 to 695\n",
      "Data columns (total 14 columns):\n",
      " #   Column           Non-Null Count  Dtype \n",
      "---  ------           --------------  ----- \n",
      " 0   ID               97 non-null     object\n",
      " 1   N_VICTIMAS       97 non-null     int64 \n",
      " 2   AAAA             97 non-null     int64 \n",
      " 3   MM               97 non-null     int64 \n",
      " 4   DD               97 non-null     int64 \n",
      " 5   HH               97 non-null     object\n",
      " 6   LUGAR_DEL_HECHO  97 non-null     object\n",
      " 7   TIPO_DE_CALLE    97 non-null     object\n",
      " 8   Calle            97 non-null     object\n",
      " 9   COMUNA           97 non-null     int64 \n",
      " 10  pos x            97 non-null     object\n",
      " 11  pos y            97 non-null     object\n",
      " 12  VICTIMA          97 non-null     object\n",
      " 13  ACUSADO          97 non-null     object\n",
      "dtypes: int64(5), object(9)\n",
      "memory usage: 11.4+ KB\n"
     ]
    }
   ],
   "source": [
    "# Filtrar filas donde la columna 'AAAA' es igual a 2016\n",
    "df_2021 = df.loc[df['AAAA'] == 2021]\n",
    "\n",
    "df_2021.info()\n"
   ]
  },
  {
   "cell_type": "code",
   "execution_count": 24,
   "metadata": {},
   "outputs": [
    {
     "data": {
      "image/png": "[encoded data removed]",
      "text/plain": [
       "<Figure size 640x480 with 1 Axes>"
      ]
     },
     "metadata": {},
     "output_type": "display_data"
    }
   ],
   "source": [
    "# analisis de frecuencia de victimas en choques.\n",
    "frecuencias = df_2021['VICTIMA'].value_counts()\n",
    "sns.barplot(x=frecuencias.index, y=frecuencias)\n",
    "plt.xticks(rotation=45,  fontsize=8)\n",
    "plt.xlabel('victima')\n",
    "plt.ylabel('Frecuencia')\n",
    "plt.title('Frecuencia de victimas')\n",
    "plt.show()"
   ]
  },
  {
   "cell_type": "code",
   "execution_count": 25,
   "metadata": {},
   "outputs": [
    {
     "data": {
      "image/png": "[encoded data removed]",
      "text/plain": [
       "<Figure size 640x480 with 1 Axes>"
      ]
     },
     "metadata": {},
     "output_type": "display_data"
    }
   ],
   "source": [
    "# analisis de frecuencia de acusados en siniestros.\n",
    "frecuencias = df_2021['ACUSADO'].value_counts()\n",
    "sns.barplot(x=frecuencias.index, y=frecuencias)\n",
    "plt.xticks(rotation=45,  fontsize=8)\n",
    "plt.xlabel('acusado')\n",
    "plt.ylabel('Frecuencia')\n",
    "plt.title('Frecuencia de acusado')\n",
    "plt.show()"
   ]
  },
  {
   "cell_type": "code",
   "execution_count": 27,
   "metadata": {},
   "outputs": [
    {
     "data": {
      "image/png": "[encoded data removed]",
      "text/plain": [
       "<Figure size 640x480 with 1 Axes>"
      ]
     },
     "metadata": {},
     "output_type": "display_data"
    }
   ],
   "source": [
    "frecuencias = df_2021['COMUNA'].value_counts()\n",
    "sns.barplot(x=frecuencias.index, y=frecuencias)\n",
    "plt.xticks(rotation=45,  fontsize=8)\n",
    "plt.xlabel('Comuna')\n",
    "plt.ylabel('Frecuencia')\n",
    "plt.title('Frecuencia de Comuna')\n",
    "plt.show()"
   ]
  },
  {
   "cell_type": "code",
   "execution_count": 28,
   "metadata": {},
   "outputs": [
    {
     "data": {
      "image/png": "[encoded data removed]",
      "text/plain": [
       "<Figure size 640x480 with 1 Axes>"
      ]
     },
     "metadata": {},
     "output_type": "display_data"
    }
   ],
   "source": [
    "frecuencias = df_2021['Calle'].value_counts()\n",
    "frecuencias = frecuencias.sort_values( ascending=False)\n",
    "frecuencias= frecuencias.head(5)\n",
    "sns.barplot(x=frecuencias.index, y=frecuencias)\n",
    "plt.xticks(rotation=45,  fontsize=8)\n",
    "plt.xlabel('calle')\n",
    "plt.ylabel('Frecuencia')\n",
    "plt.title('top 5 de calles')\n",
    "plt.show()"
   ]
  },
  {
   "cell_type": "markdown",
   "metadata": {},
   "source": [
    "# Conclusión:\n",
    "\n",
    "no se encontro rastros de valores atipicos, por lo que se procede a guardar la base de datos"
   ]
  },
  {
   "cell_type": "code",
   "execution_count": 18,
   "metadata": {},
   "outputs": [
    {
     "name": "stdout",
     "output_type": "stream",
     "text": [
      "<class 'pandas.core.frame.DataFrame'>\n",
      "RangeIndex: 175 entries, 0 to 174\n",
      "Data columns (total 14 columns):\n",
      " #   Column           Non-Null Count  Dtype \n",
      "---  ------           --------------  ----- \n",
      " 0   ID               175 non-null    object\n",
      " 1   N_VICTIMAS       175 non-null    int64 \n",
      " 2   AAAA             175 non-null    int64 \n",
      " 3   MM               175 non-null    int64 \n",
      " 4   DD               175 non-null    int64 \n",
      " 5   HH               175 non-null    object\n",
      " 6   LUGAR_DEL_HECHO  175 non-null    object\n",
      " 7   TIPO_DE_CALLE    175 non-null    object\n",
      " 8   Calle            175 non-null    object\n",
      " 9   COMUNA           175 non-null    int64 \n",
      " 10  pos x            175 non-null    object\n",
      " 11  pos y            175 non-null    object\n",
      " 12  VICTIMA          175 non-null    object\n",
      " 13  ACUSADO          175 non-null    object\n",
      "dtypes: int64(5), object(9)\n",
      "memory usage: 19.3+ KB\n"
     ]
    }
   ],
   "source": [
    "# Se extrae los datos del 2020\n",
    "df_2020 = df.loc[df['AAAA'] == 2020]\n",
    "# se concatena df_2020 y df_2021\n",
    "df_20_21 = pd.concat([df_2020,df_2021], ignore_index=True)\n",
    "\n",
    "df_20_21.info()"
   ]
  },
  {
   "cell_type": "code",
   "execution_count": 7,
   "metadata": {},
   "outputs": [],
   "source": [
    "df_2021.to_csv('homicidiosclean_2021.csv',index=False)\n",
    "df_20_21.to_csv('homicidiosclean_20y21.csv',index=False)\n"
   ]
  },
  {
   "cell_type": "code",
   "execution_count": 1,
   "metadata": {},
   "outputs": [
    {
     "data": {
      "text/html": [
       "<div>\n",
       "<style scoped>\n",
       "    .dataframe tbody tr th:only-of-type {\n",
       "        vertical-align: middle;\n",
       "    }\n",
       "\n",
       "    .dataframe tbody tr th {\n",
       "        vertical-align: top;\n",
       "    }\n",
       "\n",
       "    .dataframe thead th {\n",
       "        text-align: right;\n",
       "    }\n",
       "</style>\n",
       "<table border=\"1\" class=\"dataframe\">\n",
       "  <thead>\n",
       "    <tr style=\"text-align: right;\">\n",
       "      <th></th>\n",
       "      <th>ID</th>\n",
       "      <th>N_VICTIMAS</th>\n",
       "      <th>AAAA</th>\n",
       "      <th>MM</th>\n",
       "      <th>DD</th>\n",
       "      <th>HH</th>\n",
       "      <th>LUGAR_DEL_HECHO</th>\n",
       "      <th>TIPO_DE_CALLE</th>\n",
       "      <th>Calle</th>\n",
       "      <th>COMUNA</th>\n",
       "      <th>pos x</th>\n",
       "      <th>pos y</th>\n",
       "      <th>VICTIMA</th>\n",
       "      <th>ACUSADO</th>\n",
       "    </tr>\n",
       "  </thead>\n",
       "  <tbody>\n",
       "    <tr>\n",
       "      <th>0</th>\n",
       "      <td>2016-0001</td>\n",
       "      <td>1</td>\n",
       "      <td>2016</td>\n",
       "      <td>1</td>\n",
       "      <td>1</td>\n",
       "      <td>4</td>\n",
       "      <td>AV PIEDRA BUENA Y AV FERNANDEZ DE LA CRUZ</td>\n",
       "      <td>AVENIDA</td>\n",
       "      <td>PIEDRA BUENA AV.</td>\n",
       "      <td>8</td>\n",
       "      <td>-58.47533969</td>\n",
       "      <td>-34.68757022</td>\n",
       "      <td>MOTO</td>\n",
       "      <td>AUTO</td>\n",
       "    </tr>\n",
       "  </tbody>\n",
       "</table>\n",
       "</div>"
      ],
      "text/plain": [
       "          ID  N_VICTIMAS  AAAA  MM  DD HH  \\\n",
       "0  2016-0001           1  2016   1   1  4   \n",
       "\n",
       "                             LUGAR_DEL_HECHO TIPO_DE_CALLE             Calle  \\\n",
       "0  AV PIEDRA BUENA Y AV FERNANDEZ DE LA CRUZ       AVENIDA  PIEDRA BUENA AV.   \n",
       "\n",
       "   COMUNA         pos x         pos y VICTIMA ACUSADO  \n",
       "0       8  -58.47533969  -34.68757022    MOTO    AUTO  "
      ]
     },
     "execution_count": 1,
     "metadata": {},
     "output_type": "execute_result"
    }
   ],
   "source": [
    "import pandas as pd\n",
    "df_20_21 = pd.read_csv('homicidiosclean_20y21.csv')\n",
    "df= pd.read_csv('homicidiosclean_incompleto.csv')\n",
    "df.head(1)"
   ]
  },
  {
   "cell_type": "code",
   "execution_count": 3,
   "metadata": {},
   "outputs": [
    {
     "data": {
      "text/html": [
       "<div>\n",
       "<style scoped>\n",
       "    .dataframe tbody tr th:only-of-type {\n",
       "        vertical-align: middle;\n",
       "    }\n",
       "\n",
       "    .dataframe tbody tr th {\n",
       "        vertical-align: top;\n",
       "    }\n",
       "\n",
       "    .dataframe thead th {\n",
       "        text-align: right;\n",
       "    }\n",
       "</style>\n",
       "<table border=\"1\" class=\"dataframe\">\n",
       "  <thead>\n",
       "    <tr style=\"text-align: right;\">\n",
       "      <th></th>\n",
       "      <th>ID</th>\n",
       "      <th>N_VICTIMAS</th>\n",
       "      <th>AAAA</th>\n",
       "      <th>MM</th>\n",
       "      <th>DD</th>\n",
       "      <th>HH</th>\n",
       "      <th>LUGAR_DEL_HECHO</th>\n",
       "      <th>TIPO_DE_CALLE</th>\n",
       "      <th>Calle</th>\n",
       "      <th>COMUNA</th>\n",
       "      <th>pos x</th>\n",
       "      <th>pos y</th>\n",
       "      <th>VICTIMA</th>\n",
       "      <th>ACUSADO</th>\n",
       "    </tr>\n",
       "  </thead>\n",
       "  <tbody>\n",
       "    <tr>\n",
       "      <th>170</th>\n",
       "      <td>2021-0093</td>\n",
       "      <td>1</td>\n",
       "      <td>2021</td>\n",
       "      <td>12</td>\n",
       "      <td>13</td>\n",
       "      <td>17</td>\n",
       "      <td>AV. RIESTRA Y MOM</td>\n",
       "      <td>AVENIDA</td>\n",
       "      <td>RIESTRA AV.</td>\n",
       "      <td>7</td>\n",
       "      <td>-58.43353773</td>\n",
       "      <td>-34.64561636</td>\n",
       "      <td>MOTO</td>\n",
       "      <td>AUTO</td>\n",
       "    </tr>\n",
       "    <tr>\n",
       "      <th>171</th>\n",
       "      <td>2021-0094</td>\n",
       "      <td>1</td>\n",
       "      <td>2021</td>\n",
       "      <td>12</td>\n",
       "      <td>20</td>\n",
       "      <td>1</td>\n",
       "      <td>AU DELLEPIANE Y LACARRA</td>\n",
       "      <td>AUTOPISTA</td>\n",
       "      <td>DELLEPIANE, LUIS, TTE. GRAL.</td>\n",
       "      <td>9</td>\n",
       "      <td>-58.46739825</td>\n",
       "      <td>-34.65117757</td>\n",
       "      <td>MOTO</td>\n",
       "      <td>AUTO</td>\n",
       "    </tr>\n",
       "    <tr>\n",
       "      <th>172</th>\n",
       "      <td>2021-0095</td>\n",
       "      <td>1</td>\n",
       "      <td>2021</td>\n",
       "      <td>12</td>\n",
       "      <td>30</td>\n",
       "      <td>0</td>\n",
       "      <td>AV. GAONA Y TERRADA</td>\n",
       "      <td>AVENIDA</td>\n",
       "      <td>GAONA AV.</td>\n",
       "      <td>11</td>\n",
       "      <td>-58.47293407</td>\n",
       "      <td>-34.61984745</td>\n",
       "      <td>MOTO</td>\n",
       "      <td>CARGAS</td>\n",
       "    </tr>\n",
       "    <tr>\n",
       "      <th>173</th>\n",
       "      <td>2021-0096</td>\n",
       "      <td>1</td>\n",
       "      <td>2021</td>\n",
       "      <td>12</td>\n",
       "      <td>15</td>\n",
       "      <td>10</td>\n",
       "      <td>AV. EVA PERON 4071</td>\n",
       "      <td>AVENIDA</td>\n",
       "      <td>PERON, EVA AV.</td>\n",
       "      <td>9</td>\n",
       "      <td>-58.47066794</td>\n",
       "      <td>-34.65021673</td>\n",
       "      <td>AUTO</td>\n",
       "      <td>CARGAS</td>\n",
       "    </tr>\n",
       "    <tr>\n",
       "      <th>174</th>\n",
       "      <td>2021-0097</td>\n",
       "      <td>1</td>\n",
       "      <td>2021</td>\n",
       "      <td>11</td>\n",
       "      <td>18</td>\n",
       "      <td>6</td>\n",
       "      <td>PADRE CARLOS MUJICA 709</td>\n",
       "      <td>CALLE</td>\n",
       "      <td>PADRE CARLOS MUJICA</td>\n",
       "      <td>1</td>\n",
       "      <td>-58.37976155</td>\n",
       "      <td>-34.58679619</td>\n",
       "      <td>BICICLETA</td>\n",
       "      <td>AUTO</td>\n",
       "    </tr>\n",
       "  </tbody>\n",
       "</table>\n",
       "</div>"
      ],
      "text/plain": [
       "            ID  N_VICTIMAS  AAAA  MM  DD  HH          LUGAR_DEL_HECHO  \\\n",
       "170  2021-0093           1  2021  12  13  17        AV. RIESTRA Y MOM   \n",
       "171  2021-0094           1  2021  12  20   1  AU DELLEPIANE Y LACARRA   \n",
       "172  2021-0095           1  2021  12  30   0      AV. GAONA Y TERRADA   \n",
       "173  2021-0096           1  2021  12  15  10       AV. EVA PERON 4071   \n",
       "174  2021-0097           1  2021  11  18   6  PADRE CARLOS MUJICA 709   \n",
       "\n",
       "    TIPO_DE_CALLE                         Calle  COMUNA         pos x  \\\n",
       "170       AVENIDA                   RIESTRA AV.       7  -58.43353773   \n",
       "171     AUTOPISTA  DELLEPIANE, LUIS, TTE. GRAL.       9  -58.46739825   \n",
       "172       AVENIDA                     GAONA AV.      11  -58.47293407   \n",
       "173       AVENIDA                PERON, EVA AV.       9  -58.47066794   \n",
       "174         CALLE           PADRE CARLOS MUJICA       1  -58.37976155   \n",
       "\n",
       "            pos y    VICTIMA ACUSADO  \n",
       "170  -34.64561636       MOTO    AUTO  \n",
       "171  -34.65117757       MOTO    AUTO  \n",
       "172  -34.61984745       MOTO  CARGAS  \n",
       "173  -34.65021673       AUTO  CARGAS  \n",
       "174  -34.58679619  BICICLETA    AUTO  "
      ]
     },
     "execution_count": 3,
     "metadata": {},
     "output_type": "execute_result"
    }
   ],
   "source": [
    "df_20_21.tail()"
   ]
  },
  {
   "cell_type": "markdown",
   "metadata": {},
   "source": [
    "# relaciones"
   ]
  },
  {
   "cell_type": "code",
   "execution_count": 29,
   "metadata": {},
   "outputs": [
    {
     "data": {
      "text/plain": [
       "([0, 1, 2, 3, 4, 5, 6, 7, 8],\n",
       " [Text(0, 0, 'AUTO'),\n",
       "  Text(1, 0, 'CARGAS'),\n",
       "  Text(2, 0, 'OBJETO FIJO'),\n",
       "  Text(3, 0, 'MOTO'),\n",
       "  Text(4, 0, 'PASAJEROS'),\n",
       "  Text(5, 0, 'SD'),\n",
       "  Text(6, 0, 'OTRO'),\n",
       "  Text(7, 0, 'MULTIPLE'),\n",
       "  Text(8, 0, 'BICICLETA')])"
      ]
     },
     "execution_count": 29,
     "metadata": {},
     "output_type": "execute_result"
    },
    {
     "data": {
      "image/png": "[encoded data removed]",
      "text/plain": [
       "<Figure size 594.486x500 with 1 Axes>"
      ]
     },
     "metadata": {},
     "output_type": "display_data"
    }
   ],
   "source": [
    "sns.relplot(\n",
    "    data=df_2021,\n",
    "    x=\"ACUSADO\", y=\"VICTIMA\",\n",
    "    hue=\"N_VICTIMAS\", palette=\"ch:r=-.5,l=.75\"\n",
    ")\n",
    "plt.title('relacion entre victimas y acusados')\n",
    "plt.xticks(rotation=45,  fontsize=8)"
   ]
  },
  {
   "cell_type": "code",
   "execution_count": 30,
   "metadata": {},
   "outputs": [
    {
     "data": {
      "image/png": "[encoded data removed]",
      "text/plain": [
       "<Figure size 1200x300 with 4 Axes>"
      ]
     },
     "metadata": {},
     "output_type": "display_data"
    }
   ],
   "source": [
    "# relacion de calle con tipo de victimas\n",
    " \n",
    "g = sns.FacetGrid(df_2021, col='TIPO_DE_CALLE')\n",
    "\n",
    "# Count the occurrences of each victim type\n",
    "g.map_dataframe(sns.countplot, x='VICTIMA')\n",
    "\n",
    "# Muestra la matriz de gráficos\n",
    "plt.show()\n"
   ]
  }
 ],
 "metadata": {
  "kernelspec": {
   "display_name": "Python 3",
   "language": "python",
   "name": "python3"
  },
  "language_info": {
   "codemirror_mode": {
    "name": "ipython",
    "version": 3
   },
   "file_extension": ".py",
   "mimetype": "text/x-python",
   "name": "python",
   "nbconvert_exporter": "python",
   "pygments_lexer": "ipython3",
   "version": "3.11.8"
  }
 },
 "nbformat": 4,
 "nbformat_minor": 2
}
